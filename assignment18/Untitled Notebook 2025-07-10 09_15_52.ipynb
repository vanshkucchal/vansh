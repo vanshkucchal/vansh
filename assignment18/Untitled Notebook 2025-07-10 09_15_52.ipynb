{
 "cells": [
  {
   "cell_type": "code",
   "execution_count": 0,
   "metadata": {
    "application/vnd.databricks.v1+cell": {
     "cellMetadata": {
      "byteLimit": 2048000,
      "rowLimit": 10000
     },
     "inputWidgets": {},
     "nuid": "7eb392ce-61cd-441c-9533-1ec752f2c0ab",
     "showTitle": false,
     "tableResultSettingsMap": {},
     "title": ""
    }
   },
   "outputs": [
    {
     "output_type": "stream",
     "name": "stdout",
     "output_type": "stream",
     "text": [
      "create table user(id varchar,name varchar)\ncreate table user(id varchar,name varchar)\ncreate table employee(empname varchar)\ncreate table employee(empname varchar)\ncreate table emp(empname varchar)\ncreate table emp(empname varchar)\n"
     ]
    }
   ],
   "source": [
    "df=spark.table(\"assignment\")\n",
    "rtable=\"\"\n",
    "rcolumn=\"\"\n",
    "ctable=\"\"\n",
    "ccolumn=\"\"\n",
    "ptable=\"\"\n",
    "pcolumn=\"\"\n",
    "\n",
    "for x in df.collect():\n",
    "    rcurrent_table=x[\"rawtablename\"]\n",
    "    rcolumn_name=x[\"rawtablecolumn\"]\n",
    "    rdata_type=x[\"rawtablecoldatatype\"]\n",
    "    if rcurrent_table != rtable:\n",
    "        if rtable != \"\":\n",
    "           print(f\"drop table {rtable}\")\n",
    "        rtable=rcurrent_table\n",
    "        rcolumn=f\"{rcolumn_name} {rdata_type}\"\n",
    "    else:\n",
    "        rcolumn+=f\",{rcolumn_name} {rdata_type}\"\n",
    "print(f\"create table {rtable}({rcolumn})\")\n",
    "if table != \"\":\n",
    "    print(f\"create table {rtable}({rcolumn})\")\n",
    "\n",
    "    # curated table\n",
    "\n",
    "  \n",
    "\n",
    "    ccurrent_table=x[\"curatedtablename\"]\n",
    "    ccolumn_name=x[\"curatedtablecolumn\"]\n",
    "   \n",
    "    cdata_type=x[\"curatedtablecolumndatatype\"]\n",
    "    if ccurrent_table != ctable:\n",
    "        if ctable != \"\":\n",
    "           print(f\"drop table {ctable}\")\n",
    "        ctable=ccurrent_table\n",
    "        ccolumn=f\"{ccolumn_name} {cdata_type}\"\n",
    "    else:\n",
    "        ccolumn+=f\",{ccolumn_name} {cdata_type}\"\n",
    "print(f\"create table {ctable}({ccolumn})\")\n",
    "if ctable != \"\":\n",
    "    print(f\"create table {ctable}({ccolumn})\")\n",
    "\n",
    "    # presentation table\n",
    "\n",
    "    pcurrent_table=x[\"presentationlayertablename\"]\n",
    "    pcolumn_name=x[\"presentationlayercolumn\"]\n",
    "    pdata_type=x[\"presentationlayercolumndatatype\"]\n",
    "    if pcurrent_table != ptable:\n",
    "        if ptable != \"\":\n",
    "           print(f\"drop table {ptable}\")\n",
    "        ptable=pcurrent_table\n",
    "        pcolumn=f\"{pcolumn_name} {pdata_type}\"\n",
    "    else:\n",
    "        pcolumn+=f\",{pcolumn_name} {pdata_type}\"\n",
    "print(f\"create table {ptable}({pcolumn})\")\n",
    "if ptable != \"\":\n",
    "    print(f\"create table {ptable}({pcolumn})\")"
   ]
  }
 ],
 "metadata": {
  "application/vnd.databricks.v1+notebook": {
   "computePreferences": null,
   "dashboards": [],
   "environmentMetadata": {
    "base_environment": "",
    "environment_version": "2"
   },
   "inputWidgetPreferences": null,
   "language": "python",
   "notebookMetadata": {
    "pythonIndentUnit": 4
   },
   "notebookName": "Untitled Notebook 2025-07-10 09:15:52",
   "widgets": {}
  },
  "language_info": {
   "name": "python"
  }
 },
 "nbformat": 4,
 "nbformat_minor": 0
}